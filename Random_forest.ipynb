{
  "nbformat": 4,
  "nbformat_minor": 0,
  "metadata": {
    "colab": {
      "provenance": [],
      "authorship_tag": "ABX9TyOm22CR7C0mploBRei3RzY1",
      "include_colab_link": true
    },
    "kernelspec": {
      "name": "python3",
      "display_name": "Python 3"
    },
    "language_info": {
      "name": "python"
    }
  },
  "cells": [
    {
      "cell_type": "markdown",
      "metadata": {
        "id": "view-in-github",
        "colab_type": "text"
      },
      "source": [
        "<a href=\"https://colab.research.google.com/github/tharun-0-0-6/sdc/blob/main/Random_forest.ipynb\" target=\"_parent\"><img src=\"https://colab.research.google.com/assets/colab-badge.svg\" alt=\"Open In Colab\"/></a>"
      ]
    },
    {
      "cell_type": "code",
      "execution_count": null,
      "metadata": {
        "colab": {
          "base_uri": "https://localhost:8080/"
        },
        "id": "1R0Qw_TZjm2j",
        "outputId": "9c555443-f85c-49db-8d40-d92eb566b5ba"
      },
      "outputs": [
        {
          "output_type": "stream",
          "name": "stdout",
          "text": [
            "\n",
            "📋 Enter details to check health insurance eligibility:\n",
            "Age: 35\n",
            "BMI: 24.5\n",
            "Smoker? (1 = Yes, 0 = No): 0\n",
            "Annual Income (₹): 60000\n",
            "\n",
            "✅ Eligible for Health Insurance (Confidence: 1.00)\n"
          ]
        }
      ],
      "source": [
        "# Random Forest Classifier: Health Insurance Eligibility Prediction\n",
        "# Step 1: Import libraries\n",
        "import numpy as np\n",
        "from sklearn.ensemble import RandomForestClassifier\n",
        "from sklearn.model_selection import train_test_split\n",
        "from sklearn.preprocessing import StandardScaler\n",
        "\n",
        "# Step 2: Generate synthetic dataset\n",
        "np.random.seed(42)\n",
        "age = np.random.randint(18, 60, size=(500, 1))\n",
        "bmi = np.random.uniform(18, 40, size=(500, 1))               # Typical BMI range\n",
        "smoker = np.random.randint(0, 2, size=(500, 1))              # 0 or 1\n",
        "income = np.random.randint(15000, 100000, size=(500, 1))     # Annual income\n",
        "\n",
        "X = np.hstack((age, bmi, smoker, income))\n",
        "\n",
        "# Eligibility logic: non-smoker, good BMI, good income\n",
        "y = ((bmi < 30) & (smoker == 0) & (income > 30000)).astype(int).reshape(-1)\n",
        "\n",
        "# Step 3: Train-test split and scaling\n",
        "X_train, X_test, y_train, y_test = train_test_split(X, y, test_size=0.2, random_state=42)\n",
        "\n",
        "scaler = StandardScaler()\n",
        "X_train_scaled = scaler.fit_transform(X_train)\n",
        "X_test_scaled = scaler.transform(X_test)\n",
        "\n",
        "# Step 4: Train the Random Forest model\n",
        "model = RandomForestClassifier(n_estimators=100, random_state=42)\n",
        "model.fit(X_train_scaled, y_train)\n",
        "\n",
        "# ---------------- USER INPUT SECTION ----------------\n",
        "\n",
        "print(\"\\n📋 Enter details to check health insurance eligibility:\")\n",
        "\n",
        "age_input = float(input(\"Age: \"))\n",
        "bmi_input = float(input(\"BMI: \"))\n",
        "smoker_input = int(input(\"Smoker? (1 = Yes, 0 = No): \"))\n",
        "income_input = float(input(\"Annual Income (₹): \"))\n",
        "\n",
        "user_input = np.array([[age_input, bmi_input, smoker_input, income_input]])\n",
        "user_scaled = scaler.transform(user_input)\n",
        "\n",
        "# Step 5: Prediction\n",
        "prediction = model.predict(user_scaled)[0]\n",
        "prob = model.predict_proba(user_scaled)[0][1]\n",
        "\n",
        "# Step 6: Result\n",
        "if prediction == 1:\n",
        "    print(f\"\\n✅ Eligible for Health Insurance (Confidence: {prob:.2f})\")\n",
        "else:\n",
        "    print(f\"\\n❌ Not Eligible for Health Insurance (Confidence: {1 - prob:.2f})\")\n"
      ]
    }
  ]
}