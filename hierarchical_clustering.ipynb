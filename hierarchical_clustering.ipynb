{
  "nbformat": 4,
  "nbformat_minor": 0,
  "metadata": {
    "colab": {
      "provenance": []
    },
    "kernelspec": {
      "name": "python3",
      "display_name": "Python 3"
    },
    "language_info": {
      "name": "python"
    }
  },
  "cells": [
    {
      "cell_type": "code",
      "execution_count": null,
      "metadata": {
        "id": "wg3VguEVfXtY"
      },
      "outputs": [],
      "source": [
        "import numpy as np\n",
        "import matplotlib.pyplot as plt\n",
        "from sklearn.datasets import make_blobs\n",
        "from scipy.cluster.hierarchy import dendrogram, linkage, fcluster\n",
        "from sklearn.cluster import KMeans\n",
        "\n",
        "# Step 1: Get User Input\n",
        "n_samples = int(input(\"Enter the number of data points: \"))\n",
        "n_features = int(input(\"Enter the number of features (e.g., 2 for 2D visualization): \"))\n",
        "n_clusters = int(input(\"Enter the number of main clusters: \"))\n",
        "granule_size = int(input(\"Enter granule size (number of points per granule): \"))\n",
        "\n",
        "# Step 2: Generate Synthetic Data\n",
        "X, _ = make_blobs(n_samples=n_samples, centers=n_clusters, n_features=n_features, cluster_std=1.2, random_state=42)\n",
        "\n",
        "# Step 3: Apply Granular Clustering\n",
        "granule_clusters = n_samples // granule_size\n",
        "granule_kmeans = KMeans(n_clusters=granule_clusters, random_state=42)\n",
        "granule_labels = granule_kmeans.fit_predict(X)\n",
        "\n",
        "# Step 4: Perform Hierarchical Clustering on Granules\n",
        "Z = linkage(granule_kmeans.cluster_centers_, method='ward')\n",
        "\n",
        "# Step 5: Cut the dendrogram at desired clusters\n",
        "final_labels = fcluster(Z, t=n_clusters, criterion='maxclust')\n",
        "\n",
        "# Step 6: Assign final labels to original data\n",
        "granule_centers = granule_kmeans.cluster_centers_\n",
        "cluster_assignments = {i: final_labels[i] for i in range(len(granule_centers))}\n",
        "final_data_labels = np.array([cluster_assignments[label] for label in granule_labels])\n",
        "\n",
        "# Step 7: Plot Dendrogram\n",
        "plt.figure(figsize=(10, 5))\n",
        "dendrogram(Z)\n",
        "plt.title(\"Hierarchical Clustering Dendrogram (Granule-Based)\")\n",
        "plt.xlabel(\"Granules\")\n",
        "plt.ylabel(\"Distance\")\n",
        "plt.show()\n",
        "\n",
        "# Step 8: Plot Final Clusters (only if n_features=2 for visualization)\n",
        "if n_features == 2:\n",
        "    plt.figure(figsize=(8, 6))\n",
        "    plt.scatter(X[:, 0], X[:, 1], c=final_data_labels, cmap='viridis', s=30, alpha=0.7)\n",
        "    plt.scatter(granule_centers[:, 0], granule_centers[:, 1], c='red', marker='X', s=100, label=\"Granule Centers\")\n",
        "    plt.title(\"Granule-Based Hierarchical Clustering\")\n",
        "    plt.legend()\n",
        "    plt.show()\n",
        "else:\n",
        "    print(\"Visualization is only available for 2D data.\")\n",
        "\n"
      ]
    }
  ]
}