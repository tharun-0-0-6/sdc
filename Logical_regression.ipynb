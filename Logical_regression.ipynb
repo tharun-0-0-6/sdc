{
  "nbformat": 4,
  "nbformat_minor": 0,
  "metadata": {
    "colab": {
      "provenance": [],
      "authorship_tag": "ABX9TyOOJ5Hs6Hlnd7N7jIGQefnR",
      "include_colab_link": true
    },
    "kernelspec": {
      "name": "python3",
      "display_name": "Python 3"
    },
    "language_info": {
      "name": "python"
    }
  },
  "cells": [
    {
      "cell_type": "markdown",
      "metadata": {
        "id": "view-in-github",
        "colab_type": "text"
      },
      "source": [
        "<a href=\"https://colab.research.google.com/github/tharun-0-0-6/sdc/blob/main/Logical_regression.ipynb\" target=\"_parent\"><img src=\"https://colab.research.google.com/assets/colab-badge.svg\" alt=\"Open In Colab\"/></a>"
      ]
    },
    {
      "cell_type": "code",
      "execution_count": null,
      "metadata": {
        "colab": {
          "base_uri": "https://localhost:8080/"
        },
        "id": "E4086uVJjMp0",
        "outputId": "655e202d-f180-4aab-b411-c59f06f7d686"
      },
      "outputs": [
        {
          "output_type": "stream",
          "name": "stdout",
          "text": [
            "\n",
            "📋 Enter details to check loan eligibility:\n",
            "Age: 30\n",
            "Monthly Salary (₹): 55000\n",
            "Credit Score (0-100): 75\n",
            "Existing Debt (₹): 10000\n",
            "\n",
            "✅ Eligible for Loan (Confidence: 0.57)\n"
          ]
        }
      ],
      "source": [
        "#Real-Life Logistic Regression: Loan Eligibility Prediction\n",
        "# Step 1: Import libraries\n",
        "import numpy as np\n",
        "from sklearn.linear_model import LogisticRegression\n",
        "from sklearn.model_selection import train_test_split\n",
        "from sklearn.preprocessing import StandardScaler\n",
        "\n",
        "# Step 2: Generate synthetic dataset\n",
        "np.random.seed(42)\n",
        "age = np.random.randint(21, 60, size=(500, 1))\n",
        "salary = np.random.randint(20000, 100000, size=(500, 1))\n",
        "credit_score = np.random.randint(30, 100, size=(500, 1))\n",
        "debt = np.random.randint(0, 50000, size=(500, 1))\n",
        "\n",
        "X = np.hstack((age, salary, credit_score, debt))\n",
        "\n",
        "# Logic for loan approval: good credit, decent salary, low debt\n",
        "y = ((credit_score > 60) & (salary > 30000) & (debt < 20000)).astype(int).reshape(-1)\n",
        "\n",
        "# Step 3: Train-test split & scaling\n",
        "X_train, X_test, y_train, y_test = train_test_split(X, y, test_size=0.2, random_state=42)\n",
        "\n",
        "scaler = StandardScaler()\n",
        "X_train_scaled = scaler.fit_transform(X_train)\n",
        "X_test_scaled = scaler.transform(X_test)\n",
        "\n",
        "# Step 4: Train the logistic regression model\n",
        "model = LogisticRegression()\n",
        "model.fit(X_train_scaled, y_train)\n",
        "\n",
        "# ---------------- USER INPUT SECTION ----------------\n",
        "\n",
        "print(\"\\n📋 Enter details to check loan eligibility:\")\n",
        "\n",
        "age_input = float(input(\"Age: \"))\n",
        "salary_input = float(input(\"Monthly Salary (₹): \"))\n",
        "credit_score_input = float(input(\"Credit Score (0-100): \"))\n",
        "debt_input = float(input(\"Existing Debt (₹): \"))\n",
        "\n",
        "user_input = np.array([[age_input, salary_input, credit_score_input, debt_input]])\n",
        "user_scaled = scaler.transform(user_input)\n",
        "\n",
        "# Step 5: Prediction\n",
        "prediction = model.predict(user_scaled)[0]\n",
        "prob = model.predict_proba(user_scaled)[0][1]\n",
        "\n",
        "# Step 6: Result\n",
        "if prediction == 1:\n",
        "    print(f\"\\n✅ Eligible for Loan (Confidence: {prob:.2f})\")\n",
        "else:\n",
        "    print(f\"\\n❌ Not Eligible for Loan (Confidence: {1 - prob:.2f})\")\n"
      ]
    }
  ]
}