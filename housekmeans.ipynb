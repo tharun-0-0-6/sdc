{
  "nbformat": 4,
  "nbformat_minor": 0,
  "metadata": {
    "colab": {
      "provenance": []
    },
    "kernelspec": {
      "name": "python3",
      "display_name": "Python 3"
    },
    "language_info": {
      "name": "python"
    }
  },
  "cells": [
    {
      "cell_type": "code",
      "execution_count": null,
      "metadata": {
        "id": "yMfQ0lSBe7yg"
      },
      "outputs": [],
      "source": [
        "import numpy as np\n",
        "import pandas as pd\n",
        "import ipywidgets as widgets\n",
        "from sklearn.model_selection import train_test_split\n",
        "from sklearn.cluster import KMeans\n",
        "\n",
        "# Load and train model\n",
        "def load_and_train_model(file):\n",
        "    df = pd.read_csv(file)\n",
        "\n",
        "    # Define features and target variable\n",
        "    X = df[[\"Size (sq ft)\", \"Bedrooms\", \"Location Score\"]]\n",
        "\n",
        "    # Use KMeans to categorize house prices (3 clusters: Low, Medium, High)\n",
        "    kmeans = KMeans(n_clusters=3, random_state=42)\n",
        "    kmeans.fit(X)\n",
        "\n",
        "    return kmeans\n",
        "\n",
        "# Prediction function\n",
        "def predict_price_category(model, size, bedrooms, location_score):\n",
        "    new_house = np.array([[size, bedrooms, location_score]])\n",
        "    predicted_cluster = model.predict(new_house)[0]\n",
        "\n",
        "    # Map cluster to price category\n",
        "    if predicted_cluster == 0:\n",
        "        category = \"Low\"\n",
        "    elif predicted_cluster == 1:\n",
        "        category = \"Medium\"\n",
        "    else:\n",
        "        category = \"High\"\n",
        "\n",
        "    return f\"Predicted Price Category: {category}\"\n",
        "\n",
        "# Create widgets\n",
        "file_upload = widgets.FileUpload(accept='.csv', multiple=False)\n",
        "size_widget = widgets.IntText(value=1500, description='Size (sq ft):')\n",
        "bedrooms_widget = widgets.IntText(value=3, description='Bedrooms:')\n",
        "location_score_widget = widgets.IntSlider(value=7, min=1, max=10, description='Location Score:')\n",
        "\n",
        "output = widgets.Output()\n",
        "\n",
        "def on_button_click(b):\n",
        "    # Load and train KMeans model\n",
        "    model = load_and_train_model(file_upload.value[0]['content'])\n",
        "    # Get prediction\n",
        "    prediction = predict_price_category(model, size_widget.value, bedrooms_widget.value, location_score_widget.value)\n",
        "    # Display prediction\n",
        "    with output:\n",
        "        print(prediction)\n",
        "\n",
        "# Create button to trigger prediction\n",
        "button = widgets.Button(description=\"Predict Price Category\")\n",
        "button.on_click(on_button_click)\n",
        "\n",
        "# Display the widgets\n",
        "display(file_upload, size_widget, bedrooms_widget, location_score_widget, button, output)\n"
      ]
    }
  ]
}