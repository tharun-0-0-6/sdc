{
  "nbformat": 4,
  "nbformat_minor": 0,
  "metadata": {
    "colab": {
      "provenance": [],
      "authorship_tag": "ABX9TyOfAX+ny+ydrp0I4odS19ZC",
      "include_colab_link": true
    },
    "kernelspec": {
      "name": "python3",
      "display_name": "Python 3"
    },
    "language_info": {
      "name": "python"
    }
  },
  "cells": [
    {
      "cell_type": "markdown",
      "metadata": {
        "id": "view-in-github",
        "colab_type": "text"
      },
      "source": [
        "<a href=\"https://colab.research.google.com/github/tharun-0-0-6/sdc/blob/main/RNN.ipynb\" target=\"_parent\"><img src=\"https://colab.research.google.com/assets/colab-badge.svg\" alt=\"Open In Colab\"/></a>"
      ]
    },
    {
      "cell_type": "code",
      "execution_count": null,
      "metadata": {
        "colab": {
          "base_uri": "https://localhost:8080/"
        },
        "id": "gcpoF984oQ0L",
        "outputId": "e38644cd-6322-49a7-cc3e-336c32ae3850"
      },
      "outputs": [
        {
          "output_type": "stream",
          "name": "stderr",
          "text": [
            "/usr/local/lib/python3.11/dist-packages/keras/src/layers/core/embedding.py:90: UserWarning: Argument `input_length` is deprecated. Just remove it.\n",
            "  warnings.warn(\n"
          ]
        },
        {
          "output_type": "stream",
          "name": "stdout",
          "text": [
            "\u001b[1m1/1\u001b[0m \u001b[32m━━━━━━━━━━━━━━━━━━━━\u001b[0m\u001b[37m\u001b[0m \u001b[1m4s\u001b[0m 4s/step - accuracy: 0.0345 - loss: 3.1339\n",
            "\n",
            "💬 Enter a starting phrase (e.g., 'I like to'): I\n",
            "\n",
            "🧠 Predicted Next Word: 'coding'\n"
          ]
        }
      ],
      "source": [
        "#RNN Real-Life Example: Predict the Next Word in a Sentence\n",
        "# Step 1: Import libraries\n",
        "import numpy as np\n",
        "from tensorflow.keras.models import Sequential\n",
        "from tensorflow.keras.layers import SimpleRNN, Embedding, Dense\n",
        "from tensorflow.keras.preprocessing.text import Tokenizer\n",
        "from tensorflow.keras.preprocessing.sequence import pad_sequences\n",
        "\n",
        "# Step 2: Create some sample real-life-like sentences\n",
        "sentences = [\n",
        "    \"I like to eat pizza\",\n",
        "    \"I like to play football\",\n",
        "    \"I enjoy watching movies\",\n",
        "    \"I love coding in python\",\n",
        "    \"I like to read books\",\n",
        "    \"I enjoy drinking coffee\",\n",
        "    \"I like to go jogging\",\n",
        "    \"I love eating burgers\"\n",
        "]\n",
        "\n",
        "# Step 3: Tokenize the sentences\n",
        "tokenizer = Tokenizer()\n",
        "tokenizer.fit_on_texts(sentences)\n",
        "total_words = len(tokenizer.word_index) + 1\n",
        "\n",
        "# Create sequences (e.g., \"I like to\" → \"eat\")\n",
        "input_sequences = []\n",
        "for line in sentences:\n",
        "    token_list = tokenizer.texts_to_sequences([line])[0]\n",
        "    for i in range(1, len(token_list)):\n",
        "        n_gram = token_list[:i+1]\n",
        "        input_sequences.append(n_gram)\n",
        "\n",
        "# Pad sequences and split input/label\n",
        "max_len = max(len(seq) for seq in input_sequences)\n",
        "input_sequences = np.array(pad_sequences(input_sequences, maxlen=max_len, padding='pre'))\n",
        "\n",
        "X, y = input_sequences[:, :-1], input_sequences[:, -1]\n",
        "y = np.eye(total_words)[y]  # One-hot encode the output\n",
        "\n",
        "# Step 4: Define RNN model\n",
        "model = Sequential([\n",
        "    Embedding(total_words, 10, input_length=max_len - 1),\n",
        "    SimpleRNN(64),\n",
        "    Dense(total_words, activation='softmax')\n",
        "])\n",
        "\n",
        "model.compile(loss='categorical_crossentropy', optimizer='adam', metrics=['accuracy'])\n",
        "\n",
        "# Step 5: Train quickly (no epochs set, just default 1 pass)\n",
        "model.fit(X, y, verbose=1)\n",
        "\n",
        "# ---------------- USER INPUT SECTION ----------------\n",
        "\n",
        "input_text = input(\"\\n💬 Enter a starting phrase (e.g., 'I like to'): \").strip().lower()\n",
        "token_list = tokenizer.texts_to_sequences([input_text])[0]\n",
        "token_list = pad_sequences([token_list], maxlen=max_len-1, padding='pre')\n",
        "\n",
        "# Predict next word\n",
        "predicted = model.predict(token_list, verbose=0)\n",
        "predicted_index = np.argmax(predicted)\n",
        "\n",
        "# Find the word from index\n",
        "for word, index in tokenizer.word_index.items():\n",
        "    if index == predicted_index:\n",
        "        print(f\"\\n🧠 Predicted Next Word: '{word}'\")\n",
        "        break\n"
      ]
    }
  ]
}