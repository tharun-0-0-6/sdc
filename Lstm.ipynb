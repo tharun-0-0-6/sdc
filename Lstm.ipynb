{
  "nbformat": 4,
  "nbformat_minor": 0,
  "metadata": {
    "colab": {
      "provenance": [],
      "authorship_tag": "ABX9TyM0uA31vqZxT6l3s7BSBDdm",
      "include_colab_link": true
    },
    "kernelspec": {
      "name": "python3",
      "display_name": "Python 3"
    },
    "language_info": {
      "name": "python"
    }
  },
  "cells": [
    {
      "cell_type": "markdown",
      "metadata": {
        "id": "view-in-github",
        "colab_type": "text"
      },
      "source": [
        "<a href=\"https://colab.research.google.com/github/tharun-0-0-6/sdc/blob/main/LSTM.ipynb\" target=\"_parent\"><img src=\"https://colab.research.google.com/assets/colab-badge.svg\" alt=\"Open In Colab\"/></a>"
      ]
    },
    {
      "cell_type": "code",
      "execution_count": null,
      "metadata": {
        "colab": {
          "base_uri": "https://localhost:8080/"
        },
        "id": "kF_6Z_vwob0i",
        "outputId": "fe098794-a9e5-4a79-d5a7-915b81ceb831"
      },
      "outputs": [
        {
          "output_type": "stream",
          "name": "stderr",
          "text": [
            "/usr/local/lib/python3.11/dist-packages/keras/src/layers/core/embedding.py:90: UserWarning: Argument `input_length` is deprecated. Just remove it.\n",
            "  warnings.warn(\n"
          ]
        },
        {
          "output_type": "stream",
          "name": "stdout",
          "text": [
            "\u001b[1m1/1\u001b[0m \u001b[32m━━━━━━━━━━━━━━━━━━━━\u001b[0m\u001b[37m\u001b[0m \u001b[1m4s\u001b[0m 4s/step - accuracy: 0.0345 - loss: 3.1360\n",
            "\n",
            "💬 Enter a starting phrase (e.g., 'I like to'): i like to\n",
            "\n",
            "🧠 Predicted Next Word: 'love'\n"
          ]
        }
      ],
      "source": [
        "#LSTM Real-Life Example: Next Word Prediction from Sentence Start\n",
        "# Step 1: Import libraries\n",
        "import numpy as np\n",
        "from tensorflow.keras.models import Sequential\n",
        "from tensorflow.keras.layers import Embedding, LSTM, Dense\n",
        "from tensorflow.keras.preprocessing.text import Tokenizer\n",
        "from tensorflow.keras.preprocessing.sequence import pad_sequences\n",
        "\n",
        "# Step 2: Sample dataset\n",
        "sentences = [\n",
        "    \"I like to eat pizza\",\n",
        "    \"I like to play football\",\n",
        "    \"I enjoy watching movies\",\n",
        "    \"I love coding in python\",\n",
        "    \"I like to read books\",\n",
        "    \"I enjoy drinking coffee\",\n",
        "    \"I like to go jogging\",\n",
        "    \"I love eating burgers\"\n",
        "]\n",
        "\n",
        "# Step 3: Tokenize\n",
        "tokenizer = Tokenizer()\n",
        "tokenizer.fit_on_texts(sentences)\n",
        "total_words = len(tokenizer.word_index) + 1\n",
        "\n",
        "# Step 4: Create input sequences\n",
        "input_sequences = []\n",
        "for line in sentences:\n",
        "    token_list = tokenizer.texts_to_sequences([line])[0]\n",
        "    for i in range(1, len(token_list)):\n",
        "        n_gram_seq = token_list[:i+1]\n",
        "        input_sequences.append(n_gram_seq)\n",
        "\n",
        "# Pad sequences\n",
        "max_len = max(len(x) for x in input_sequences)\n",
        "input_sequences = pad_sequences(input_sequences, maxlen=max_len, padding='pre')\n",
        "\n",
        "# Split X and y\n",
        "X, y = input_sequences[:, :-1], input_sequences[:, -1]\n",
        "y = np.eye(total_words)[y]  # One-hot encode\n",
        "\n",
        "# Step 5: Build LSTM model\n",
        "model = Sequential([\n",
        "    Embedding(total_words, 10, input_length=max_len - 1),\n",
        "    LSTM(64),\n",
        "    Dense(total_words, activation='softmax')\n",
        "])\n",
        "model.compile(loss='categorical_crossentropy', optimizer='adam', metrics=['accuracy'])\n",
        "\n",
        "# Step 6: Train (1 pass only, no manual epochs)\n",
        "model.fit(X, y, verbose=1)\n",
        "\n",
        "# ---------------- USER INPUT SECTION ----------------\n",
        "\n",
        "input_text = input(\"\\n💬 Enter a starting phrase (e.g., 'I like to'): \").strip().lower()\n",
        "token_list = tokenizer.texts_to_sequences([input_text])[0]\n",
        "token_list = pad_sequences([token_list], maxlen=max_len-1, padding='pre')\n",
        "\n",
        "# Predict next word\n",
        "predicted = model.predict(token_list, verbose=0)\n",
        "predicted_index = np.argmax(predicted)\n",
        "\n",
        "# Retrieve predicted word\n",
        "for word, index in tokenizer.word_index.items():\n",
        "    if index == predicted_index:\n",
        "        print(f\"\\n🧠 Predicted Next Word: '{word}'\")\n",
        "        break\n"
      ]
    }
  ]
}
