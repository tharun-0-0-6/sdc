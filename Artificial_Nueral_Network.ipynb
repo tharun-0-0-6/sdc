{
  "nbformat": 4,
  "nbformat_minor": 0,
  "metadata": {
    "colab": {
      "provenance": [],
      "authorship_tag": "ABX9TyMxqz7MQhOJ53G1T2FmZI1Z",
      "include_colab_link": true
    },
    "kernelspec": {
      "name": "python3",
      "display_name": "Python 3"
    },
    "language_info": {
      "name": "python"
    }
  },
  "cells": [
    {
      "cell_type": "markdown",
      "metadata": {
        "id": "view-in-github",
        "colab_type": "text"
      },
      "source": [
        "<a href=\"https://colab.research.google.com/github/tharun-0-0-6/sdc/blob/main/Artificial_Nueral_Network.ipynb\" target=\"_parent\"><img src=\"https://colab.research.google.com/assets/colab-badge.svg\" alt=\"Open In Colab\"/></a>"
      ]
    },
    {
      "cell_type": "code",
      "execution_count": null,
      "metadata": {
        "colab": {
          "base_uri": "https://localhost:8080/"
        },
        "id": "kCIqJbmSkG_V",
        "outputId": "6580225c-9ea3-4b5c-cbb8-70d896e53db9"
      },
      "outputs": [
        {
          "output_type": "stream",
          "name": "stderr",
          "text": [
            "/usr/local/lib/python3.11/dist-packages/keras/src/layers/core/dense.py:87: UserWarning: Do not pass an `input_shape`/`input_dim` argument to a layer. When using Sequential models, prefer using an `Input(shape)` object as the first layer in the model instead.\n",
            "  super().__init__(activity_regularizer=activity_regularizer, **kwargs)\n"
          ]
        },
        {
          "name": "stdout",
          "output_type": "stream",
          "text": [
            "\n",
            "🧾 Enter User Info to Predict Purchase Decision:\n",
            "Age: 27\n",
            "Estimated Salary: 60000\n",
            "Number of Website Visits: 10\n",
            "Clicked on Ad (0 or 1): 1\n"
          ]
        },
        {
          "output_type": "stream",
          "name": "stderr",
          "text": [
            "WARNING:tensorflow:5 out of the last 10 calls to <function TensorFlowTrainer.make_predict_function.<locals>.one_step_on_data_distributed at 0x7aee488672e0> triggered tf.function retracing. Tracing is expensive and the excessive number of tracings could be due to (1) creating @tf.function repeatedly in a loop, (2) passing tensors with different shapes, (3) passing Python objects instead of tensors. For (1), please define your @tf.function outside of the loop. For (2), @tf.function has reduce_retracing=True option that can avoid unnecessary retracing. For (3), please refer to https://www.tensorflow.org/guide/function#controlling_retracing and https://www.tensorflow.org/api_docs/python/tf/function for  more details.\n"
          ]
        },
        {
          "output_type": "stream",
          "name": "stdout",
          "text": [
            "\u001b[1m1/1\u001b[0m \u001b[32m━━━━━━━━━━━━━━━━━━━━\u001b[0m\u001b[37m\u001b[0m \u001b[1m0s\u001b[0m 71ms/step\n",
            "\n",
            "🟢 Likely to BUY (Confidence: 0.98)\n"
          ]
        }
      ],
      "source": [
        " #Real-Life Example: Predicting Product Purchase with ANN\n",
        " # Step 1: Import libraries\n",
        "import numpy as np\n",
        "from sklearn.model_selection import train_test_split\n",
        "from sklearn.preprocessing import StandardScaler\n",
        "from tensorflow.keras.models import Sequential\n",
        "from tensorflow.keras.layers import Dense\n",
        "\n",
        "# Step 2: Generate synthetic dataset (like real-life product purchase)\n",
        "# Format: [age, salary, site_visits, clicked_on_ad]\n",
        "np.random.seed(42)\n",
        "X = np.random.randint(18, 60, size=(500, 1))                    # Age\n",
        "salary = np.random.randint(20000, 100000, size=(500, 1))        # Salary\n",
        "visits = np.random.randint(1, 15, size=(500, 1))                # Website Visits\n",
        "ad_click = np.random.randint(0, 2, size=(500, 1))               # Clicked on Ad\n",
        "\n",
        "X = np.hstack((X, salary, visits, ad_click))\n",
        "\n",
        "# Generate target: Buy (1) or Not Buy (0)\n",
        "# More likely to buy if younger, high visits, clicked ad\n",
        "y = ((X[:, 2] > 5) & (X[:, 3] == 1) & (X[:, 1] > 40000)).astype(int)\n",
        "\n",
        "# Step 3: Split and scale\n",
        "X_train, X_test, y_train, y_test = train_test_split(X, y, test_size=0.2, random_state=42)\n",
        "\n",
        "scaler = StandardScaler()\n",
        "X_train = scaler.fit_transform(X_train)\n",
        "X_test = scaler.transform(X_test)\n",
        "\n",
        "# Step 4: Build the model\n",
        "model = Sequential([\n",
        "    Dense(16, activation='relu', input_shape=(4,)),\n",
        "    Dense(8, activation='relu'),\n",
        "    Dense(1, activation='sigmoid')\n",
        "])\n",
        "\n",
        "model.compile(optimizer='adam', loss='binary_crossentropy', metrics=['accuracy'])\n",
        "model.fit(X_train, y_train, epochs=30, batch_size=16, verbose=0)\n",
        "\n",
        "# ------------------- User Input Section -------------------\n",
        "\n",
        "print(\"\\n🧾 Enter User Info to Predict Purchase Decision:\")\n",
        "age = float(input(\"Age: \"))\n",
        "salary = float(input(\"Estimated Salary: \"))\n",
        "visits = float(input(\"Number of Website Visits: \"))\n",
        "clicked = float(input(\"Clicked on Ad (0 or 1): \"))\n",
        "\n",
        "user_input = np.array([[age, salary, visits, clicked]])\n",
        "user_scaled = scaler.transform(user_input)\n",
        "\n",
        "# Predict\n",
        "prediction = model.predict(user_scaled)[0][0]\n",
        "\n",
        "# Result\n",
        "if prediction > 0.5:\n",
        "    print(f\"\\n🟢 Likely to BUY (Confidence: {prediction:.2f})\")\n",
        "else:\n",
        "    print(f\"\\n🔴 Not Likely to Buy (Confidence: {prediction:.2f})\")\n"
      ]
    }
  ]
}