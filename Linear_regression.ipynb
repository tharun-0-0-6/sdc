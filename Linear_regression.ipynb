{
  "nbformat": 4,
  "nbformat_minor": 0,
  "metadata": {
    "colab": {
      "provenance": [],
      "authorship_tag": "ABX9TyOCHKJBaTx4WqxZZOfv2GPd",
      "include_colab_link": true
    },
    "kernelspec": {
      "name": "python3",
      "display_name": "Python 3"
    },
    "language_info": {
      "name": "python"
    }
  },
  "cells": [
    {
      "cell_type": "markdown",
      "metadata": {
        "id": "view-in-github",
        "colab_type": "text"
      },
      "source": [
        "<a href=\"https://colab.research.google.com/github/tharun-0-0-6/sdc/blob/main/Linear_regression.ipynb\" target=\"_parent\"><img src=\"https://colab.research.google.com/assets/colab-badge.svg\" alt=\"Open In Colab\"/></a>"
      ]
    },
    {
      "cell_type": "code",
      "execution_count": null,
      "metadata": {
        "colab": {
          "base_uri": "https://localhost:8080/"
        },
        "id": "4AkQF_iki7Jy",
        "outputId": "dfc139dd-ab41-4792-e882-df314e1901fb"
      },
      "outputs": [
        {
          "output_type": "stream",
          "name": "stdout",
          "text": [
            "📋 Enter details to predict monthly expenses:\n",
            "Age: 35\n",
            "Monthly Salary: 40000\n",
            "Family Size: 4\n",
            "\n",
            "💰 Estimated Monthly Expenses: ₹21280.27\n"
          ]
        }
      ],
      "source": [
        "#Real-Life Linear Regression Example: Predicting Monthly Expenses\n",
        "# Step 1: Import libraries\n",
        "import numpy as np\n",
        "from sklearn.linear_model import LinearRegression\n",
        "from sklearn.model_selection import train_test_split\n",
        "from sklearn.preprocessing import StandardScaler\n",
        "\n",
        "# Step 2: Create synthetic real-life-like dataset\n",
        "np.random.seed(42)\n",
        "age = np.random.randint(20, 60, size=(300, 1))\n",
        "salary = np.random.randint(15000, 80000, size=(300, 1))\n",
        "family_size = np.random.randint(1, 6, size=(300, 1))\n",
        "\n",
        "# Target: Monthly expenses (in ₹), based on some pattern\n",
        "expenses = 5000 + age * 20 + salary * 0.3 + family_size * 1000 + np.random.randint(-5000, 5000, size=(300, 1))\n",
        "expenses = expenses.reshape(-1)\n",
        "\n",
        "# Combine features\n",
        "X = np.hstack((age, salary, family_size))\n",
        "y = expenses\n",
        "\n",
        "# Step 3: Split and scale\n",
        "X_train, X_test, y_train, y_test = train_test_split(X, y, test_size=0.2, random_state=42)\n",
        "\n",
        "scaler = StandardScaler()\n",
        "X_train_scaled = scaler.fit_transform(X_train)\n",
        "X_test_scaled = scaler.transform(X_test)\n",
        "\n",
        "# Step 4: Train the Linear Regression model\n",
        "model = LinearRegression()\n",
        "model.fit(X_train_scaled, y_train)\n",
        "\n",
        "# ---------------- USER INPUT SECTION ----------------\n",
        "\n",
        "print(\"📋 Enter details to predict monthly expenses:\")\n",
        "\n",
        "age_input = float(input(\"Age: \"))\n",
        "salary_input = float(input(\"Monthly Salary: \"))\n",
        "family_size_input = float(input(\"Family Size: \"))\n",
        "\n",
        "# Prepare input\n",
        "user_input = np.array([[age_input, salary_input, family_size_input]])\n",
        "user_scaled = scaler.transform(user_input)\n",
        "\n",
        "# Predict\n",
        "prediction = model.predict(user_scaled)[0]\n",
        "print(f\"\\n💰 Estimated Monthly Expenses: ₹{prediction:.2f}\")\n"
      ]
    }
  ]
}