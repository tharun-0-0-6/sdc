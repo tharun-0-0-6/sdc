{
  "nbformat": 4,
  "nbformat_minor": 0,
  "metadata": {
    "colab": {
      "provenance": []
    },
    "kernelspec": {
      "name": "python3",
      "display_name": "Python 3"
    },
    "language_info": {
      "name": "python"
    }
  },
  "cells": [
    {
      "cell_type": "code",
      "execution_count": null,
      "metadata": {
        "id": "8a1MByonfmgJ"
      },
      "outputs": [],
      "source": [
        "!pip install gradio"
      ]
    },
    {
      "cell_type": "code",
      "source": [
        "import numpy as np\n",
        "import gradio as gr\n",
        "from transformers import pipeline\n",
        "\n",
        "# Load a more powerful GPT-2 model\n",
        "generator = pipeline(\"text-generation\", model=\"gpt2-large\")\n",
        "\n",
        "# Function to generate text with improved relevance\n",
        "def generate_text(prompt):\n",
        "    result = generator(\n",
        "        prompt,\n",
        "        max_length=150,  # Increased length for better responses\n",
        "        num_return_sequences=1,\n",
        "        temperature=0.6,  # Lower temperature for more logical outputs\n",
        "        top_p=0.85,  # Nucleus sampling to filter unlikely words\n",
        "        top_k=40,  # Reduce randomness by considering only top 40 choices\n",
        "        repetition_penalty=1.2  # Prevents repeating the same phrases\n",
        "    )\n",
        "    return result[0]['generated_text']\n",
        "\n",
        "# Gradio interface\n",
        "demo = gr.Interface(\n",
        "    fn=generate_text,\n",
        "    inputs=gr.Textbox(label=\"Enter a prompt\"),\n",
        "    outputs=gr.Textbox(label=\"Generated Text\"),\n",
        "    title=\"Advanced Text Generator\",\n",
        "    description=\"Enter a prompt and receive a well-structured response.\"\n",
        ")\n",
        "\n",
        "demo.launch(share=True)"
      ],
      "metadata": {
        "id": "jAbuHimpfooY"
      },
      "execution_count": null,
      "outputs": []
    }
  ]
}