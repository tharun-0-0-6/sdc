# 📦 Step 1: Import necessary libraries
import numpy as np
import pandas as pd
from sklearn.datasets import load_breast_cancer
from sklearn.model_selection import train_test_split
from sklearn.linear_model import LogisticRegression
from sklearn.metrics import classification_report, confusion_matrix, accuracy_score

# 🧠 Step 2: Load dataset
data = load_breast_cancer()
df = pd.DataFrame(data.data, columns=data.feature_names)
df['target'] = data.target  # 0 = malignant, 1 = benign

# 👀 Step 3: View sample data
print("Sample Data:\n", df.head())

# ✅ Step 4: Split data into features (X) and target (y)
X = df.drop('target', axis=1)
y = df['target']

# 🧪 Step 5: Split into training and testing datasets
X_train, X_test, y_train, y_test = train_test_split(X, y, test_size=0.2, random_state=42)

# 🔢 Step 6: Initialize and train Logistic Regression model
model = LogisticRegression(max_iter=10000)
model.fit(X_train, y_train)

# 🔮 Step 7: Make predictions
y_pred = model.predict(X_test)

# 📊 Step 8: Evaluate model
print("\n📈 Classification Report:")
print(classification_report(y_test, y_pred))

print("\n📊 Confusion Matrix:")
print(confusion_matrix(y_test, y_pred))

print("\n✅ Accuracy Score:", accuracy_score(y_test, y_pred))

# 🧪 Step 9: Real-time input prediction (example using first feature only)
print("\n🔍 Real-Time Prediction Example")
mean_radius = float(input("Enter mean radius of the tumor (e.g., 14.2): "))

# Using average values for all other features to simulate a full input
sample_input = np.mean(X_train, axis=0)
sample_input['mean radius'] = mean_radius

# Reshape and predict
predicted = model.predict([sample_input])[0]
label = "Benign" if predicted == 1 else "Malignant"
print(f"🧬 Prediction: {label}")
