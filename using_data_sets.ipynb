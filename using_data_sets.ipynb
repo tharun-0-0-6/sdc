{
  "nbformat": 4,
  "nbformat_minor": 0,
  "metadata": {
    "colab": {
      "provenance": [],
      "authorship_tag": "ABX9TyMXlutKiDsfdxclX2kqz0g3",
      "include_colab_link": true
    },
    "kernelspec": {
      "name": "python3",
      "display_name": "Python 3"
    },
    "language_info": {
      "name": "python"
    }
  },
  "cells": [
    {
      "cell_type": "markdown",
      "metadata": {
        "id": "view-in-github",
        "colab_type": "text"
      },
      "source": [
        "<a href=\"https://colab.research.google.com/github/tharun-0-0-6/sdc/blob/main/using_data_sets.ipynb\" target=\"_parent\"><img src=\"https://colab.research.google.com/assets/colab-badge.svg\" alt=\"Open In Colab\"/></a>"
      ]
    },
    {
      "cell_type": "code",
      "execution_count": null,
      "metadata": {
        "colab": {
          "base_uri": "https://localhost:8080/"
        },
        "id": "ZpeR_eu-s5nP",
        "outputId": "36fd48fd-ed9d-4426-c196-05c670e99722"
      },
      "outputs": [
        {
          "output_type": "stream",
          "name": "stdout",
          "text": [
            "Sample Data:\n",
            "    PassengerId  Survived  Pclass  \\\n",
            "0            1         0       3   \n",
            "1            2         1       1   \n",
            "2            3         1       3   \n",
            "3            4         1       1   \n",
            "4            5         0       3   \n",
            "\n",
            "                                                Name     Sex   Age  SibSp  \\\n",
            "0                            Braund, Mr. Owen Harris    male  22.0      1   \n",
            "1  Cumings, Mrs. John Bradley (Florence Briggs Th...  female  38.0      1   \n",
            "2                             Heikkinen, Miss. Laina  female  26.0      0   \n",
            "3       Futrelle, Mrs. Jacques Heath (Lily May Peel)  female  35.0      1   \n",
            "4                           Allen, Mr. William Henry    male  35.0      0   \n",
            "\n",
            "   Parch            Ticket     Fare Cabin Embarked  \n",
            "0      0         A/5 21171   7.2500   NaN        S  \n",
            "1      0          PC 17599  71.2833   C85        C  \n",
            "2      0  STON/O2. 3101282   7.9250   NaN        S  \n",
            "3      0            113803  53.1000  C123        S  \n",
            "4      0            373450   8.0500   NaN        S  \n",
            "\n",
            "📈 Classification Report:\n",
            "              precision    recall  f1-score   support\n",
            "\n",
            "           0       0.79      0.78      0.79        87\n",
            "           1       0.67      0.68      0.67        56\n",
            "\n",
            "    accuracy                           0.74       143\n",
            "   macro avg       0.73      0.73      0.73       143\n",
            "weighted avg       0.74      0.74      0.74       143\n",
            "\n",
            "\n",
            "📊 Confusion Matrix:\n",
            "[[68 19]\n",
            " [18 38]]\n",
            "\n",
            "✅ Accuracy Score: 0.7412587412587412\n",
            "\n",
            "🔍 Real-Time Prediction Example\n",
            "Enter passenger class (1, 2, or 3): 1\n",
            "Enter sex (0 for male, 1 for female): 0\n",
            "Enter age: 19\n",
            "Enter ticket fare: 250\n",
            "🛳 Prediction: Survived\n"
          ]
        },
        {
          "output_type": "stream",
          "name": "stderr",
          "text": [
            "/usr/local/lib/python3.11/dist-packages/sklearn/utils/validation.py:2739: UserWarning: X does not have valid feature names, but StandardScaler was fitted with feature names\n",
            "  warnings.warn(\n"
          ]
        }
      ],
      "source": [
        "#Logistic Regression on Titanic Dataset\n",
        "# 📦 Step 1: Import necessary libraries\n",
        "import numpy as np\n",
        "import pandas as pd\n",
        "import seaborn as sns\n",
        "import matplotlib.pyplot as plt\n",
        "from sklearn.model_selection import train_test_split\n",
        "from sklearn.preprocessing import StandardScaler\n",
        "from sklearn.linear_model import LogisticRegression\n",
        "from sklearn.metrics import classification_report, confusion_matrix, accuracy_score\n",
        "\n",
        "# 🧠 Step 2: Load Titanic dataset\n",
        "url = \"https://raw.githubusercontent.com/datasciencedojo/datasets/master/titanic.csv\"\n",
        "df = pd.read_csv(url)\n",
        "\n",
        "# 👀 Step 3: View sample data\n",
        "print(\"Sample Data:\\n\", df.head())\n",
        "\n",
        "# 🔍 Step 4: Preprocess data\n",
        "df = df[[\"Survived\", \"Pclass\", \"Sex\", \"Age\", \"Fare\"]].dropna()  # Select relevant features and drop missing values\n",
        "\n",
        "# Convert categorical variable 'Sex' to numeric (0 = male, 1 = female)\n",
        "df[\"Sex\"] = df[\"Sex\"].map({\"male\": 0, \"female\": 1})\n",
        "\n",
        "# ✅ Step 5: Split into features (X) and target (y)\n",
        "X = df.drop(\"Survived\", axis=1)\n",
        "y = df[\"Survived\"]\n",
        "\n",
        "# 🧪 Step 6: Train-test split\n",
        "X_train, X_test, y_train, y_test = train_test_split(X, y, test_size=0.2, random_state=42)\n",
        "\n",
        "# 🔢 Step 7: Standardize the data\n",
        "scaler = StandardScaler()\n",
        "X_train = scaler.fit_transform(X_train)\n",
        "X_test = scaler.transform(X_test)\n",
        "\n",
        "# 🔢 Step 8: Train Logistic Regression model\n",
        "model = LogisticRegression(max_iter=1000)\n",
        "model.fit(X_train, y_train)\n",
        "\n",
        "# 🔮 Step 9: Predict\n",
        "y_pred = model.predict(X_test)\n",
        "\n",
        "# 📊 Step 10: Evaluate model\n",
        "print(\"\\n📈 Classification Report:\")\n",
        "print(classification_report(y_test, y_pred))\n",
        "\n",
        "print(\"\\n📊 Confusion Matrix:\")\n",
        "print(confusion_matrix(y_test, y_pred))\n",
        "\n",
        "print(\"\\n✅ Accuracy Score:\", accuracy_score(y_test, y_pred))\n",
        "\n",
        "# 🧪 Step 11: Real-time prediction example\n",
        "print(\"\\n🔍 Real-Time Prediction Example\")\n",
        "pclass = int(input(\"Enter passenger class (1, 2, or 3): \"))\n",
        "sex = int(input(\"Enter sex (0 for male, 1 for female): \"))\n",
        "age = float(input(\"Enter age: \"))\n",
        "fare = float(input(\"Enter ticket fare: \"))\n",
        "\n",
        "# Scale input\n",
        "sample_input = scaler.transform([[pclass, sex, age, fare]])\n",
        "\n",
        "# Predict survival\n",
        "predicted = model.predict(sample_input)[0]\n",
        "label = \"Survived\" if predicted == 1 else \"Did Not Survive\"\n",
        "print(f\"🛳 Prediction: {label}\")\n"
      ]
    }
  ]
}